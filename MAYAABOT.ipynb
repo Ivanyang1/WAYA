{
  "cells": [
    {
      "cell_type": "code",
      "execution_count": 36,
      "metadata": {
        "colab": {
          "base_uri": "https://localhost:8080/"
        },
        "collapsed": true,
        "id": "A3ZcVYzvw91T",
        "outputId": "f82559f6-3c07-4e4d-f865-902c4b7e5026"
      },
      "outputs": [
        {
          "name": "stdout",
          "output_type": "stream",
          "text": [
            "Requirement already satisfied: python-telegram-bot in /Library/Frameworks/Python.framework/Versions/3.11/lib/python3.11/site-packages (21.2)\n",
            "Requirement already satisfied: httpx~=0.27 in /Library/Frameworks/Python.framework/Versions/3.11/lib/python3.11/site-packages (from python-telegram-bot) (0.27.0)\n",
            "Requirement already satisfied: anyio in /Library/Frameworks/Python.framework/Versions/3.11/lib/python3.11/site-packages (from httpx~=0.27->python-telegram-bot) (4.3.0)\n",
            "Requirement already satisfied: certifi in /Library/Frameworks/Python.framework/Versions/3.11/lib/python3.11/site-packages (from httpx~=0.27->python-telegram-bot) (2022.12.7)\n",
            "Requirement already satisfied: httpcore==1.* in /Library/Frameworks/Python.framework/Versions/3.11/lib/python3.11/site-packages (from httpx~=0.27->python-telegram-bot) (1.0.5)\n",
            "Requirement already satisfied: idna in /Library/Frameworks/Python.framework/Versions/3.11/lib/python3.11/site-packages (from httpx~=0.27->python-telegram-bot) (3.4)\n",
            "Requirement already satisfied: sniffio in /Library/Frameworks/Python.framework/Versions/3.11/lib/python3.11/site-packages (from httpx~=0.27->python-telegram-bot) (1.3.1)\n",
            "Requirement already satisfied: h11<0.15,>=0.13 in /Library/Frameworks/Python.framework/Versions/3.11/lib/python3.11/site-packages (from httpcore==1.*->httpx~=0.27->python-telegram-bot) (0.14.0)\n",
            "Requirement already satisfied: requests in /Library/Frameworks/Python.framework/Versions/3.11/lib/python3.11/site-packages (2.28.2)\n",
            "Requirement already satisfied: charset-normalizer<4,>=2 in /Library/Frameworks/Python.framework/Versions/3.11/lib/python3.11/site-packages (from requests) (3.1.0)\n",
            "Requirement already satisfied: idna<4,>=2.5 in /Library/Frameworks/Python.framework/Versions/3.11/lib/python3.11/site-packages (from requests) (3.4)\n",
            "Requirement already satisfied: urllib3<1.27,>=1.21.1 in /Library/Frameworks/Python.framework/Versions/3.11/lib/python3.11/site-packages (from requests) (1.26.15)\n",
            "Requirement already satisfied: certifi>=2017.4.17 in /Library/Frameworks/Python.framework/Versions/3.11/lib/python3.11/site-packages (from requests) (2022.12.7)\n",
            "Requirement already satisfied: nest_asyncio in /Users/macbookpro/Library/Python/3.11/lib/python/site-packages (1.6.0)\n"
          ]
        }
      ],
      "source": [
        "!pip install python-telegram-bot\n",
        "!pip install requests\n",
        "!pip install nest_asyncio\n"
      ]
    },
    {
      "cell_type": "code",
      "execution_count": 37,
      "metadata": {
        "id": "ZwxJTTZWwr-l"
      },
      "outputs": [],
      "source": [
        "import asyncio\n",
        "import nest_asyncio\n",
        "from typing import Final\n",
        "from telegram import (Update, InlineKeyboardButton, InlineKeyboardMarkup)\n",
        "from telegram.ext import (Application, CallbackQueryHandler, CommandHandler,\n",
        "                          MessageHandler, filters, ContextTypes)\n",
        "from telegram.constants import ParseMode\n",
        "import requests\n",
        "\n",
        "nest_asyncio.apply()"
      ]
    },
    {
      "cell_type": "code",
      "execution_count": null,
      "metadata": {
        "id": "4PkW313_xQ_r"
      },
      "outputs": [],
      "source": [
        "# Replace the strings with your bot's info!\n",
        "TOKEN: Final = '7163613477:AAHmHBD52_pnCwH94Jujux9HnvZQ1G6uh1o' # NEVER SHARE THIS PUBLICLY\n",
        "BOT_USER: Final = ''\n",
        "\n",
        "# List of Module Codes for CS Focus Area Primaries\n",
        "PRIMARIES_LIST: Final = [\n",
        "    ['CS3230', 'CS3231', 'CS3236', 'CS4231', 'CS4234'],            # Algo\n",
        "    ['CS2109S', 'CS3263', 'CS3264', 'CS4243', 'CS4246', 'CS4248'], # AI\n",
        "    ['CS3241', 'CS3242', 'CS3247', 'CS4247', 'CS4350'],            # Games\n",
        "    ['CS2107', 'CS3235', 'CS4236', 'CS4230', 'CS4238', 'CS4239'],  # Security\n",
        "    ['CS2102', 'CS3223', 'CS4221', 'CS4224', 'CS4225'],            # Database\n",
        "    ['CS2108', 'CS3245', 'CS4242', 'CS4248', 'CS4347'],            # MIR\n",
        "    ['CS2105', 'CS3103', 'CS4222', 'CS4226', 'CS4231'],            # Networks\n",
        "    ['CS3210', 'CS3211', 'CS4231', 'CS4223'],                      # Parallel\n",
        "    ['CS2104', 'CS3211', 'CS4212', 'CS4215'],                      # Languages\n",
        "    ['CS2103T', 'CS3213', 'CS3219', 'CS4211', 'CS4218', 'CS4239']  # SWE\n",
        "]"
      ]
    },
    {
      "cell_type": "code",
      "execution_count": null,
      "metadata": {
        "id": "wl4aYIGkySHR"
      },
      "outputs": [],
      "source": [
        "# THIS HAS BEEN DONE FOR YOU\n",
        "async def start(update: Update, context: ContextTypes.DEFAULT_TYPE) -> None:\n",
        "    user = update.effective_user\n",
        "    await update.message.reply_text(text=f'Hello {user.mention_markdown_v2()}\\!'\n",
        "                                         f'\\nEnter /help to see the list of '\n",
        "                                         f'commands for this bot\\.',\n",
        "                                    parse_mode=ParseMode.MARKDOWN_V2)\n",
        "\n",
        "async def error(update: Update, context: ContextTypes.DEFAULT_TYPE) -> None:\n",
        "    print(f'Update {update}  caused error {context.error}')"
      ]
    },
    {
      "cell_type": "code",
      "execution_count": null,
      "metadata": {
        "id": "zOXgCR3Fyny6"
      },
      "outputs": [],
      "source": [
        "# TODO: What should the /help command do?\n",
        "async def help(update: Update, context: ContextTypes.DEFAULT_TYPE) -> None:\n",
        "    \"\"\"Shows the list of commands this bot has.\"\"\"\n",
        "    \"\"\"We'll deal with this when we're done with everything.\"\"\"\n",
        "    await update.message.reply_text(text=f'This shows the list of commands'\n",
        "                                         f'this bot has.')"
      ]
    },
    {
      "cell_type": "code",
      "execution_count": null,
      "metadata": {
        "id": "RQB7ienJ4DgY"
      },
      "outputs": [],
      "source": [
        "import math\n",
        "\n",
        "async def quadratic(update: Update, context: ContextTypes.DEFAULT_TYPE) -> None:\n",
        "    print(\"Quadratic function called\")  # Debugging statement\n",
        "\n",
        "    # extract the message from the user input\n",
        "    # e.g. /quadratic 1 2 3\n",
        "    message = update.message.text\n",
        "    #print(\"Received message:\", message)  # Debugging statement\n",
        "\n",
        "    arguments = message.split()  # Split the message by whitespace\n",
        "    #print(\"Arguments:\", arguments)  # Debugging statement\n",
        "\n",
        "    terms = arguments[1:]  # Extract the coefficients\n",
        "    terms = list(map(lambda x: float(x), terms))  # Convert coefficients to floats\n",
        "    #print(\"Coefficients:\", terms)  # Debugging statement\n",
        "\n",
        "    a = terms[0]\n",
        "    b = terms[1]\n",
        "    c = terms[2]\n",
        "\n",
        "    # calculate the discriminant\n",
        "    disc = b**2 - 4*a*c\n",
        "    #print(\"Discriminant:\", disc)  # Debugging statement\n",
        "\n",
        "    # Find Roots\n",
        "    if disc > 0:\n",
        "        # Two real roots\n",
        "        root1 = (-b + math.sqrt(disc)) / (2*a)\n",
        "        root2 = (-b - math.sqrt(disc)) / (2*a)\n",
        "        reply = f\"Your roots are {root1} and {root2}\"\n",
        "    elif disc == 0:\n",
        "        # One real root (repeated)\n",
        "        root = -b / (2*a)\n",
        "        reply = f\"Your root is {root}\"\n",
        "    else:\n",
        "        # Imaginary roots\n",
        "        real_part = -b / (2*a)\n",
        "        imag_part = math.sqrt(abs(disc)) / (2*a)\n",
        "        reply = f\"Your roots are {real_part} + {imag_part}i and {real_part} - {imag_part}i\"\n",
        "\n",
        "    #print(\"Reply:\", reply)  # Debugging statement\n",
        "\n",
        "    await update.message.reply_text(reply)\n"
      ]
    },
    {
      "cell_type": "code",
      "execution_count": null,
      "metadata": {
        "id": "rOrIjVUU1ViP"
      },
      "outputs": [],
      "source": [
        "async def echo(update: Update, context: ContextTypes.DEFAULT_TYPE) -> None:\n",
        "    #print(\"Echo function called\")  # Debugging statement\n",
        "    #print(\"Received message:\", update.message.text)  # Debugging statement\n",
        "    await update.message.reply_text(update.message.text)\n"
      ]
    },
    {
      "cell_type": "code",
      "execution_count": null,
      "metadata": {
        "id": "oIkSIV7D8xX9"
      },
      "outputs": [],
      "source": [
        "# TODO: Let's handle any user input without a command associated!\n",
        "def handle_response(text: str) -> str:\n",
        "    for focus_area in PRIMARIES_LIST:\n",
        "      if text in focus_area:\n",
        "        return display_module(requests.get(f'https://api.nusmods.com/v2/2023-2024/modules/{text}.json').json())\n",
        "    return 'Sorry, I do not have information on that module...'\n",
        "\n",
        "\n",
        "async def handle_message(update: Update, context: ContextTypes.DEFAULT_TYPE) -> None:\n",
        "    message_type: str = update.message.chat.type # Private? Group?\n",
        "    text: str = update.message.text              # Message content\n",
        "\n",
        "    # Logging user input on local terminal\n",
        "    print(f'User ({update.message.chat.id}) in {message_type}: \"{text}\"')\n",
        "\n",
        "    # Handle that response!\n",
        "    response: str = handle_response(text)\n",
        "\n",
        "    # Logging bot's response on local terminal\n",
        "    print('Bot:', response)\n",
        "\n",
        "    # TODO: Make the bot reply with your response!\n",
        "    await update.message.reply_text(response)"
      ]
    },
    {
      "cell_type": "code",
      "execution_count": null,
      "metadata": {
        "colab": {
          "base_uri": "https://localhost:8080/",
          "height": 599
        },
        "collapsed": true,
        "id": "2PLGtvak8fmT",
        "outputId": "88c0d18f-fd99-4284-9cdc-79145265ac79"
      },
      "outputs": [],
      "source": [
        "if __name__ == '__main__':\n",
        "    # Initializes your bot with the token!\n",
        "    app = Application.builder().token(TOKEN).build()\n",
        "\n",
        "    # Commands TODO: Add Handlers for /quadratic and /focusarea (later)\n",
        "    app.add_handler(CommandHandler('start', start))\n",
        "    app.add_handler(CommandHandler('help', help))\n",
        "    app.add_handler(CommandHandler('quadratic', quadratic))\n",
        "    app.add_handler(CommandHandler('focusarea', focusarea))\n",
        "    app.add_handler(CommandHandler(\"echo\", echo))\n",
        "\n",
        "\n",
        "    # Message Handlers\n",
        "    app.add_handler(MessageHandler(filters.TEXT, handle_message))\n",
        "\n",
        "    # Callback - we'll come back to this!\n",
        "    app.add_handler(CallbackQueryHandler(display_focus_area))\n",
        "\n",
        "    # Error Handlers\n",
        "    app.add_error_handler(error)\n",
        "\n",
        "    # Polls the bot\n",
        "    print('Polling...')\n",
        "    asyncio.run(app.run_polling())"
      ]
    },
    {
      "cell_type": "markdown",
      "metadata": {
        "id": "47DwXy7hk9pZ"
      },
      "source": [
        "# **What the API?**\n",
        "# APIs, or application programming interfaces, are a way for two or more computer programs or components to communicate with each other.\n",
        "# They can be described as \"contracts\" that define how separate software interacts with each other.\n",
        "# REST APIs enable you to develop all kinds of web applications having all possible CRUD (create, retrieve, update, delete) operations.\n",
        "# REST guidelines suggest using a specific HTTP method on a particular type of call made to the server.\n",
        "**HTTP Requests**\n",
        "\n",
        "GET - get data\n",
        "\n",
        "POST - creating or inserting new data\n",
        "\n",
        "PUT - update existing data\n",
        "\n",
        "DELETE - deletes data"
      ]
    },
    {
      "cell_type": "code",
      "execution_count": null,
      "metadata": {
        "colab": {
          "base_uri": "https://localhost:8080/"
        },
        "id": "b27PyBlcb5Qd",
        "outputId": "9f8acae0-a6b7-461d-eb51-75c17a9b3839"
      },
      "outputs": [],
      "source": [
        "#get the chat ID\n",
        "def get_chat_id(bot_token):\n",
        "    url = f\"https://api.telegram.org/bot{bot_token}/getUpdates\"\n",
        "    response = requests.get(url)\n",
        "    data = response.json()\n",
        "    chat_id = data['result'][0]['message']['chat']['id']\n",
        "    return chat_id\n",
        "\n",
        "if __name__ == '__main__':\n",
        "    bot_token = \"7139143567:AAGIdrobGpFaeX4XbdGQfEuRzk7l_VK_LQs\"\n",
        "    chat_id = get_chat_id(bot_token)\n",
        "    print(f\"Your chat ID is: {chat_id}\")\n"
      ]
    },
    {
      "cell_type": "code",
      "execution_count": null,
      "metadata": {
        "colab": {
          "base_uri": "https://localhost:8080/"
        },
        "collapsed": true,
        "id": "EYoWc97cl4jM",
        "outputId": "87636210-acb0-45af-d43c-1c0ceb6c0191"
      },
      "outputs": [],
      "source": [
        "#use the chat to send message\n",
        "def send_message(bot_token, chat_id, message):\n",
        "    url = f\"https://api.telegram.org/bot{bot_token}/sendMessage\"\n",
        "    data = {'chat_id': chat_id, 'text': message}\n",
        "    response = requests.post(url, data=data)\n",
        "    return response.json()\n",
        "\n",
        "if __name__ == '__main__':\n",
        "    bot_token = \"7139143567:AAGIdrobGpFaeX4XbdGQfEuRzk7l_VK_LQs\"  # Replace with your actual bot token\n",
        "    chat_id = \"6145741163\"  # Replace with the chat ID you obtained\n",
        "    message = \"HAPPY 520 baby I love u but u need to study moreeee!\"\n",
        "    response = send_message(bot_token, chat_id, message)\n",
        "    print(response)\n"
      ]
    },
    {
      "cell_type": "code",
      "execution_count": null,
      "metadata": {
        "colab": {
          "base_uri": "https://localhost:8080/"
        },
        "collapsed": true,
        "id": "0ZKqWzommCGO",
        "outputId": "32992d3a-fcdb-4096-b092-4587f0f608a2"
      },
      "outputs": [],
      "source": [
        "# Using catfact.ninja API\n",
        "# add /fact to the end of the API url\n",
        "endpoint = \"https://catfact.ninja/fact\"\n",
        "\n",
        "# Sends a GET request to the endpoint\n",
        "# This calls a random fact\n",
        "response = requests.get(endpoint)\n",
        "response # Returns <Response [200]>, meaning successful query!\n",
        "\n",
        "print(response.text) # prints some random fact about cats in str format\n",
        "\n",
        "# JSON to dictionary\n",
        "response = response.json()\n",
        "\n",
        "print(response) # response is now a dictionary with one key-value pair\n",
        "print(response['fact']) # prints value of response dictionary with key 'fact'"
      ]
    },
    {
      "cell_type": "code",
      "execution_count": null,
      "metadata": {},
      "outputs": [],
      "source": [
        "def get_news():\n",
        "    # Replace 'YOUR_API_KEY' with your actual News API key\n",
        "    api_key = '485566bb090147098c1a04a4f437fae2'\n",
        "    url = 'https://newsapi.org/v2/top-headlines'  # Example endpoint\n",
        "    params = {\n",
        "        'apiKey': api_key,\n",
        "        'country': 'uk',  # Example: Retrieve headlines from the United States\n",
        "    }\n",
        "\n",
        "    response = requests.get(url, params=params)\n",
        "    data = response.json()\n",
        "\n",
        "    # Process each article in the response\n",
        "    for article in data['articles']:\n",
        "        source = article['source']['name']\n",
        "        author = article['author']\n",
        "        title = article['title']\n",
        "        description = article['description']\n",
        "        url = article['url']\n",
        "        published_at = article['publishedAt']\n",
        "        \n",
        "        # Print the details of each article\n",
        "        print(f\"Source: {source}\")\n",
        "        print(f\"Author: {author}\")\n",
        "        print(f\"Title: {title}\")\n",
        "        print(f\"Description: {description}\")\n",
        "        print(f\"URL: {url}\")\n",
        "        print(f\"Published At: {published_at}\")\n",
        "        print(\"\\n\")  # New line for better readability between articles\n",
        "\n",
        "# Example usage\n",
        "get_news()"
      ]
    },
    {
      "cell_type": "code",
      "execution_count": null,
      "metadata": {
        "colab": {
          "base_uri": "https://localhost:8080/"
        },
        "id": "_jQTAjL5nUDj",
        "outputId": "569d06fb-b616-49c1-8306-d915de539cf4"
      },
      "outputs": [],
      "source": [
        "# Using data.gov.sg's carpark API\n",
        "endpoint = \"https://api.data.gov.sg/v1/transport/carpark-availability\"\n",
        "\n",
        "response = requests.get(endpoint)\n",
        "\n",
        "carpark_data = response.json()[\"items\"][0][\"carpark_data\"]\n",
        "len(carpark_data)\n",
        "\n",
        "# print carpark information for carpark number HE12\n",
        "for carpark_info in carpark_data:\n",
        "  if carpark_info[\"carpark_number\"] == \"HE12\":\n",
        "    print(carpark_info)\n",
        "    break"
      ]
    },
    {
      "cell_type": "markdown",
      "metadata": {
        "id": "6Dngpp8o5mDh"
      },
      "source": [
        "# If you're a CS student, we know you've been starting to wonder about Focus Areas and what you may want to take.\n",
        "# **Let's make a bot that shows us what Focus Areas there are in CS, and what modules are associated with them.**\n",
        "# **We'll then be able to search a module and get back some information about the module from NUSMods.**\n"
      ]
    },
    {
      "cell_type": "code",
      "execution_count": null,
      "metadata": {
        "colab": {
          "base_uri": "https://localhost:8080/",
          "height": 35
        },
        "id": "-_A4z3h1zS4s",
        "outputId": "5643ff74-6750-4451-dec4-dbed5bd2bc42"
      },
      "outputs": [],
      "source": [
        "# TODO: Go to https://api.nusmods.com/v2/#/ to see how the NUSMods API handles reqs!\n",
        "# Q1: If I want the title of a module from its code, how would I use the API?\n",
        "def get_mod_title(module_code: str) -> str:\n",
        "  endpoint = f'https://api.nusmods.com/v2/2023-2024/modules/{module_code}.json'\n",
        "  response = requests.get(endpoint)\n",
        "  description = response.json()\n",
        "  title = description['title']\n",
        "  return title\n",
        "\n",
        "get_mod_title('EL1101E')"
      ]
    },
    {
      "cell_type": "code",
      "execution_count": null,
      "metadata": {
        "colab": {
          "base_uri": "https://localhost:8080/",
          "height": 71
        },
        "id": "kjAY9SzmyOJ2",
        "outputId": "7c49304e-84cc-4207-e3c5-adfff8d413c2"
      },
      "outputs": [],
      "source": [
        "# Q2: When we choose a primary module list from the PRIMARIES_LIST above,\n",
        "# We want to display the primaries in the chosen focus area in the format:\n",
        "# (MODULE_CODE) (MODULE_TITLE)\n",
        "# How would we do that?\n",
        "def get_primaries_text(primaries_list) -> str:\n",
        "    result = \"\"\n",
        "    for module_code in primaries_list:\n",
        "      result += f'{module_code} {get_mod_title(module_code)}\\n'\n",
        "    return result\n",
        "\n",
        "get_primaries_text(['CS3210', 'CS3211', 'CS4231', 'CS4223'])"
      ]
    },
    {
      "cell_type": "markdown",
      "metadata": {
        "id": "DbEiPegY6leU"
      },
      "source": [
        "# When we enter /focusarea to the bot chat, we want to be able to see all the focus areas via INLINE KEYBOARD BUTTONS.\n"
      ]
    },
    {
      "cell_type": "code",
      "execution_count": null,
      "metadata": {
        "id": "OkghG1vIDmDS"
      },
      "outputs": [],
      "source": [
        "async def focusarea(update: Update, context: ContextTypes.DEFAULT_TYPE) -> None:\n",
        "    keyboard = [\n",
        "        [   # 3 In A Row!\n",
        "            InlineKeyboardButton(text=\"Algo & Theory\", callback_data=\"Algorithms and Theory\"),\n",
        "            InlineKeyboardButton(text=\"AI\", callback_data=\"Artificial Intelligence\"),\n",
        "            InlineKeyboardButton(text=\"G & G\", callback_data=\"Computer Graphics and Games\"),\n",
        "        ],\n",
        "        [\n",
        "            InlineKeyboardButton(text=\"Security\", callback_data=\"Computer Security\"),\n",
        "            InlineKeyboardButton(text=\"DB\", callback_data=\"Database Systems\"),\n",
        "            InlineKeyboardButton(text=\"MIR\", callback_data=\"Multimedia Information Retrieval\"),\n",
        "        ],\n",
        "        [   # 4 In a Row!\n",
        "            InlineKeyboardButton(text=\"Networks\", callback_data=\"Networking and Distributed Systems\"),\n",
        "            InlineKeyboardButton(text=\"Parallel\", callback_data=\"Parallel Computing\"),\n",
        "            InlineKeyboardButton(text=\"Prog Langs\", callback_data=\"Programming Languages\"),\n",
        "            InlineKeyboardButton(text=\"SWE\", callback_data=\"Software Engineering\"),\n",
        "        ]\n",
        "    ]\n",
        "\n",
        "    reply_markup = InlineKeyboardMarkup(keyboard)\n",
        "\n",
        "    await update.message.reply_text(text=\"Please choose a focus area: \", reply_markup=reply_markup)"
      ]
    },
    {
      "cell_type": "markdown",
      "metadata": {
        "id": "XC5Td_xtEF4c"
      },
      "source": [
        "# Once the user clicks on a button, we want to change the message to reflect the user's chosen focus area and its primaries in the form of:\n",
        "# (MODULE_CODE MODULE_TITLE)\n",
        "# Remember we made a function that provides the string of primaries' codes and titles already with get_primaries_text()!"
      ]
    },
    {
      "cell_type": "code",
      "execution_count": null,
      "metadata": {
        "id": "1_D1F-QEED2n"
      },
      "outputs": [],
      "source": [
        "def get_primaries(focus_area_title: str) -> str:\n",
        "    primaries_list = []\n",
        "    match focus_area_title:\n",
        "        case \"Algorithms and Theory\":\n",
        "            primaries_list = PRIMARIES_LIST[0]\n",
        "        case \"Artificial Intelligence\":\n",
        "            primaries_list = PRIMARIES_LIST[1]\n",
        "        case \"Computer Graphics and Games\":\n",
        "            primaries_list = PRIMARIES_LIST[2]\n",
        "        case \"Computer Security\":\n",
        "            primaries_list = PRIMARIES_LIST[3]\n",
        "        case \"Database Systems\":\n",
        "            primaries_list = PRIMARIES_LIST[4]\n",
        "        case \"Multimedia Information Retrieval\":\n",
        "            primaries_list = PRIMARIES_LIST[5]\n",
        "        case \"Networking and Distributed Systems\":\n",
        "            primaries_list = PRIMARIES_LIST[6]\n",
        "        case \"Parallel Computing\":\n",
        "            primaries_list = PRIMARIES_LIST[7]\n",
        "        case \"Programming Languages\":\n",
        "            primaries_list = PRIMARIES_LIST[8]\n",
        "        case \"Software Engineering\":\n",
        "            primaries_list = PRIMARIES_LIST[9]\n",
        "        case _:\n",
        "            primaries_list = []\n",
        "\n",
        "    return get_primaries_text(primaries_list)\n",
        "\n",
        "\n",
        "async def display_focus_area(update: Update, context: ContextTypes.DEFAULT_TYPE) -> None:\n",
        "    # The Inline Keyboard Provides a Callback Query that waits for the user's answer\n",
        "    query = update.callback_query\n",
        "    await query.answer()\n",
        "\n",
        "    # Obtains the primaries text based on the data provided by the Query\n",
        "    focus_area_primaries = get_primaries(query.data)\n",
        "\n",
        "    # Changes the 'Please select' message to:\n",
        "    await query.edit_message_text(text=f\"Selected option: <b>{query.data}</b>\\n\"\n",
        "                                       f\"Enter '(MODULE_CODE)' to find out more:\\n\\n\"\n",
        "                                       f\"Primaries: \\n{focus_area_primaries}\",\n",
        "                                  parse_mode=ParseMode.HTML)"
      ]
    },
    {
      "cell_type": "markdown",
      "metadata": {
        "id": "uoMwyCEoF-5i"
      },
      "source": [
        "# After the user selects a focus area and sees the long list of primaries in that focus area, they want to learn more about the modules without leaving the bot chat.\n",
        "# Let's add functionality to our bot's message handling so that if we type in a primary module code, our bot will pull information from NUSMods's API to summarise what the user would need to know before signing up.\n",
        "# 1. Complete the function display_module below that accepts a NUSMods API result regarding a single module in JSON format and returns a string containing information about the module.\n",
        "# 2. Go back to the handle_response function and modify it so that if the message contains a primary module code, the reply is the result of display_module()\n",
        "# Make sure to rerun main(), revamp the /help command and update your commands with BotFather with /setcommands!"
      ]
    },
    {
      "cell_type": "code",
      "execution_count": null,
      "metadata": {
        "colab": {
          "base_uri": "https://localhost:8080/",
          "height": 214
        },
        "id": "bJoCtYjdF7T2",
        "outputId": "b78f3e53-729e-4407-e6f1-0c081596febb"
      },
      "outputs": [],
      "source": [
        "# TODO: Complete display_module()\n",
        "def display_module(module_json) -> str:\n",
        "    module_code = module_json[\"moduleCode\"]\n",
        "    module_title = module_json[\"title\"]\n",
        "    module_description = module_json[\"description\"]\n",
        "    module_credits = module_json[\"moduleCredit\"]\n",
        "    module_prereqs = module_json[\"prerequisite\"]\n",
        "\n",
        "    module_sems = \"\"\n",
        "    if \"mpes1\" in module_json[\"attributes\"]:\n",
        "      module_sems += \"Offered in Sem1\\n\"\n",
        "    if \"mpes\" in module_json[\"attributes\"]:\n",
        "      module_sems += \"Offered in Sem2\\n\"\n",
        "    if \"su\" in module_json[\"attributes\"]:\n",
        "      module_sems += \"Can SU\\n\"\n",
        "\n",
        "    message = f'{module_code} {module_title}\\n'\n",
        "    message += f'{module_credits}MCs awarded\\n'\n",
        "    message += f'{module_sems}\\n'\n",
        "    message += f'Prerequisites: {module_prereqs}\\n'\n",
        "    message += f'\\nAbout: {module_description}\\n'\n",
        "\n",
        "    return message\n",
        "\n",
        "endpoint = f'https://api.nusmods.com/v2/2023-2024/modules/EL1101E.json'\n",
        "response = requests.get(endpoint)\n",
        "json_response = response.json()\n",
        "display_module(json_response)"
      ]
    },
    {
      "cell_type": "code",
      "execution_count": 47,
      "metadata": {},
      "outputs": [
        {
          "name": "stdout",
          "output_type": "stream",
          "text": [
            "Requirement already satisfied: requests in /Library/Frameworks/Python.framework/Versions/3.11/lib/python3.11/site-packages (2.28.2)\n",
            "Requirement already satisfied: beautifulsoup4 in /Library/Frameworks/Python.framework/Versions/3.11/lib/python3.11/site-packages (4.12.3)\n",
            "Requirement already satisfied: charset-normalizer<4,>=2 in /Library/Frameworks/Python.framework/Versions/3.11/lib/python3.11/site-packages (from requests) (3.1.0)\n",
            "Requirement already satisfied: idna<4,>=2.5 in /Library/Frameworks/Python.framework/Versions/3.11/lib/python3.11/site-packages (from requests) (3.4)\n",
            "Requirement already satisfied: urllib3<1.27,>=1.21.1 in /Library/Frameworks/Python.framework/Versions/3.11/lib/python3.11/site-packages (from requests) (1.26.15)\n",
            "Requirement already satisfied: certifi>=2017.4.17 in /Library/Frameworks/Python.framework/Versions/3.11/lib/python3.11/site-packages (from requests) (2022.12.7)\n",
            "Requirement already satisfied: soupsieve>1.2 in /Library/Frameworks/Python.framework/Versions/3.11/lib/python3.11/site-packages (from beautifulsoup4) (2.5)\n",
            "Note: you may need to restart the kernel to use updated packages.\n"
          ]
        }
      ],
      "source": [
        "pip install requests beautifulsoup4"
      ]
    },
    {
      "cell_type": "code",
      "execution_count": null,
      "metadata": {},
      "outputs": [],
      "source": [
        "import requests\n",
        "from bs4 import BeautifulSoup\n",
        "\n",
        "url = \"https://nuscollege.nus.edu.sg/events/\"\n",
        "response = requests.get(url)\n",
        "\n",
        "if response.status_code == 200:\n",
        "    html_content = response.text\n",
        "    print(\"HTML content fetched successfully.\")\n",
        "    print(html_content)  # Print HTML content for debugging\n",
        "else:\n",
        "    print(\"Failed to fetch HTML content. Status code:\", response.status_code)\n",
        "\n",
        "# Use BeautifulSoup to parse HTML content\n",
        "soup = BeautifulSoup(html_content, 'html.parser')\n",
        "\n",
        "# Find all articles with class 'tribe_events'\n",
        "event_articles = soup.find_all('article', class_='post-10000092 tribe_events type-tribe_events status-publish hentry tribe_events_cat-admissions-and-outreach tribe_events_cat-student-life cat_admissions-and-outreach cat_student-life')\n",
        "\n",
        "# Print debugging information\n",
        "print(\"Number of event articles found:\", len(event_articles))\n",
        "\n",
        "# Iterate over each event article\n",
        "for event_article in event_articles:\n",
        "    # Extract event details\n",
        "    event_name = event_article.find(class_='tribe-event-title').text.strip()\n",
        "    event_description = event_article.find(class_='tribe-event-description').text.strip()\n",
        "    event_date_time = event_article.find(class_='tribe-event-date-time-link').text.strip()\n",
        "    event_location = event_article.find(class_='tribe-event-venue').text.strip()\n",
        "\n",
        "    # Print event details\n",
        "    print(\"Event Name:\", event_name)\n",
        "    print(\"Description:\", event_description)\n",
        "    print(\"Date/Time:\", event_date_time)\n",
        "    print(\"Location:\", event_location)\n",
        "    print()\n"
      ]
    },
    {
      "cell_type": "code",
      "execution_count": 72,
      "metadata": {},
      "outputs": [],
      "source": [
        "#Import the sqlite3 Module\n",
        "import sqlite3\n",
        "#Connect to the SQLite Database\n",
        "conn = sqlite3.connect('events.db')\n",
        "#Create a Cursor Object\n",
        "cursor = conn.cursor()\n",
        "#Define the SQL Command to Create the Events Table\n",
        "create_table_query = '''\n",
        "CREATE TABLE IF NOT EXISTS events (\n",
        "    id INTEGER PRIMARY KEY,\n",
        "    name TEXT,\n",
        "    description TEXT,\n",
        "    date TEXT,\n",
        "    time TEXT,\n",
        "    location TEXT\n",
        ")\n",
        "'''\n",
        "#Execute the SQL Command to Create the Events Table:\n",
        "cursor.execute(create_table_query)\n",
        "#Define Sample Event Data:\n",
        "sample_events = [\n",
        "    (\"Asian Undergraduate Symposium 2024\", \"The Asian Undergraduate Symposium (AUS) is a two-week programme that brings together undergraduates from Singapore, Asian regions, with a special focus on ASEAN participants, for cultural exchange, networking, and capacity development.\", \"1 July 2024\", \"13 July 2024\", \"NUS College, 18 College Avenue East, Singapore\"),\n",
        "    (\"TOGETHER NOW!\", \"Kicking off in July, our very first NOW! program is a Telegram-based event connecting you with peers across various disciplines, especially those in your major with similar academic aspirations. Unite with your team to conquer five rounds of games and snag enticing prizes!\", \"1 July 2024\", \"15 August 2024\", \"NUS College, 18 College Avenue East, Singapore\"),\n",
        "    # Add more sample events here...\n",
        "]\n",
        "#Insert Sample Event Data into the Events Table:\n",
        "for event in sample_events:\n",
        "    cursor.execute('INSERT INTO events (name, description, date, time, location) VALUES (?, ?, ?, ?, ?)', event)\n",
        "#Commit Changes and Close the Connection:\n",
        "conn.commit()\n",
        "conn.close()"
      ]
    },
    {
      "cell_type": "code",
      "execution_count": 73,
      "metadata": {},
      "outputs": [
        {
          "name": "stdout",
          "output_type": "stream",
          "text": [
            "(1, 'Asian Undergraduate Symposium 2024', 'The Asian Undergraduate Symposium (AUS) is a two-week programme that brings together undergraduates from Singapore, Asian regions, with a special focus on ASEAN participants, for cultural exchange, networking, and capacity development.', '1 July 2024', '13 July 2024', 'NUS College, 18 College Avenue East, Singapore')\n",
            "(2, 'TOGETHER NOW!', 'Kicking off in July, our very first NOW! program is a Telegram-based event connecting you with peers across various disciplines, especially those in your major with similar academic aspirations. Unite with your team to conquer five rounds of games and snag enticing prizes!', '1 July 2024', '15 August 2024', 'NUS College, 18 College Avenue East, Singapore')\n",
            "(3, 'Asian Undergraduate Symposium 2024', 'The Asian Undergraduate Symposium (AUS) is a two-week programme that brings together undergraduates from Singapore, Asian regions, with a special focus on ASEAN participants, for cultural exchange, networking, and capacity development.', '1 July 2024', '13 July 2024', 'NUS College, 18 College Avenue East, Singapore')\n",
            "(4, 'TOGETHER NOW!', 'Kicking off in July, our very first NOW! program is a Telegram-based event connecting you with peers across various disciplines, especially those in your major with similar academic aspirations. Unite with your team to conquer five rounds of games and snag enticing prizes!', '1 July 2024', '15 August 2024', 'NUS College, 18 College Avenue East, Singapore')\n"
          ]
        }
      ],
      "source": [
        "import sqlite3\n",
        "\n",
        "# Connect to the SQLite database\n",
        "conn = sqlite3.connect('events.db')\n",
        "\n",
        "# Create a cursor object\n",
        "cursor = conn.cursor()\n",
        "\n",
        "# Execute an SQL query to select all events from the 'events' table\n",
        "cursor.execute('SELECT * FROM events')\n",
        "\n",
        "# Fetch all rows (events) from the query result\n",
        "events = cursor.fetchall()\n",
        "\n",
        "# Print the retrieved events\n",
        "for event in events:\n",
        "    print(event)\n",
        "\n",
        "# Close the cursor and connection\n",
        "cursor.close()\n",
        "conn.close()\n"
      ]
    }
  ],
  "metadata": {
    "colab": {
      "provenance": []
    },
    "kernelspec": {
      "display_name": "Python 3",
      "name": "python3"
    },
    "language_info": {
      "codemirror_mode": {
        "name": "ipython",
        "version": 3
      },
      "file_extension": ".py",
      "mimetype": "text/x-python",
      "name": "python",
      "nbconvert_exporter": "python",
      "pygments_lexer": "ipython3",
      "version": "3.11.2"
    }
  },
  "nbformat": 4,
  "nbformat_minor": 0
}
